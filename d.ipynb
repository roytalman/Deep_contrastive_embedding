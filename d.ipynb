{
 "cells": [
  {
   "cell_type": "code",
   "execution_count": 1,
   "id": "be085e85",
   "metadata": {},
   "outputs": [],
   "source": [
    "import numpy as np\n",
    "from sklearn.datasets import fetch_20newsgroups\n",
    "from sklearn.feature_extraction.text import TfidfVectorizer\n",
    "from sklearn.linear_model import LogisticRegression\n",
    "from sklearn.ensemble import RandomForestClassifier\n",
    "from sklearn.metrics import accuracy_score, classification_report\n",
    "from sklearn.model_selection import train_test_split\n",
    "from sklearn.neighbors import KNeighborsClassifier\n",
    "\n",
    "from sentence_transformers import SentenceTransformer\n",
    "from tqdm import tqdm\n",
    "import torch\n",
    "# local dependencies \n",
    "from contrastive import Contrastive_loss\n",
    "from utils import plot_tsne,Net_embed"
   ]
  },
  {
   "cell_type": "code",
   "execution_count": 2,
   "id": "47908852",
   "metadata": {},
   "outputs": [],
   "source": [
    "\n",
    "\n",
    "# Define the categories we want to classify\n",
    "categories = ['sci.space', 'sci.med','sci.electronics','comp.os.ms-windows.misc'\n",
    "              ,'comp.sys.ibm.pc.hardware','comp.sys.mac.hardware']\n",
    "\n",
    "# Fetch the training dataset\n",
    "newsgroups_train = fetch_20newsgroups(subset='train', categories=categories)\n",
    "\n",
    "# Fetch the testing dataset\n",
    "newsgroups_test = fetch_20newsgroups(subset='test', categories=categories)"
   ]
  },
  {
   "cell_type": "code",
   "execution_count": 3,
   "id": "73b7b026",
   "metadata": {},
   "outputs": [],
   "source": [
    "X_train,X_dump,y_train,y_dump =train_test_split(\n",
    "    newsgroups_train.data,newsgroups_train.target,train_size=0.25,random_state=0)\n",
    "\n",
    "\n",
    "X_test,X_dump,y_test,y_dump = train_test_split(\n",
    "    newsgroups_test.data,newsgroups_test.target,train_size=0.25,random_state=0)"
   ]
  },
  {
   "cell_type": "code",
   "execution_count": 12,
   "id": "cce1d4db",
   "metadata": {},
   "outputs": [
    {
     "name": "stdout",
     "output_type": "stream",
     "text": [
      "Accuracy: 0.70\n",
      "Classification Report:\n",
      "                           precision    recall  f1-score   support\n",
      "\n",
      " comp.os.ms-windows.misc       0.73      0.75      0.74        99\n",
      "comp.sys.ibm.pc.hardware       0.67      0.49      0.57        99\n",
      "   comp.sys.mac.hardware       0.74      0.71      0.73       104\n",
      "         sci.electronics       0.53      0.70      0.60        97\n",
      "                 sci.med       0.71      0.63      0.67        94\n",
      "               sci.space       0.84      0.91      0.87        95\n",
      "\n",
      "                accuracy                           0.70       588\n",
      "               macro avg       0.70      0.70      0.70       588\n",
      "            weighted avg       0.70      0.70      0.70       588\n",
      "\n"
     ]
    }
   ],
   "source": [
    "\n",
    "\n",
    "# Create a TF-IDF vectorizer\n",
    "tfidf_vectorizer = TfidfVectorizer(max_features=1000)\n",
    "\n",
    "# Fit and transform the training data\n",
    "X_train_tfidf = tfidf_vectorizer.fit_transform(X_train)\n",
    "\n",
    "# Transform the testing data\n",
    "X_test_tfidf = tfidf_vectorizer.transform(X_test)\n",
    "\n",
    "\n",
    "# Create a logistic regression classifier\n",
    "clf = LogisticRegression()\n",
    "\n",
    "# Train the model\n",
    "clf.fit(X_train_tfidf, y_train)\n",
    "\n",
    "\n",
    "# Make predictions on the test data\n",
    "predicted = clf.predict(X_test_tfidf)\n",
    "\n",
    "# Calculate accuracy\n",
    "accuracy = accuracy_score(y_test, predicted)\n",
    "print(f\"Accuracy: {accuracy:.2f}\")\n",
    "\n",
    "# Display classification report\n",
    "report = classification_report(y_test, predicted, target_names=newsgroups_test.target_names)\n",
    "print(\"Classification Report:\\n\", report)"
   ]
  },
  {
   "cell_type": "code",
   "execution_count": 5,
   "id": "d250b4d1",
   "metadata": {},
   "outputs": [
    {
     "name": "stderr",
     "output_type": "stream",
     "text": [
      "100%|████████████████████████████████████████████████████████████████████████████████| 884/884 [34:07<00:00,  2.32s/it]\n",
      "100%|████████████████████████████████████████████████████████████████████████████████| 588/588 [13:38<00:00,  1.39s/it]\n"
     ]
    }
   ],
   "source": [
    "\n",
    "model = SentenceTransformer('Alibaba-NLP/gte-base-en-v1.5', trust_remote_code=True)\n",
    "embedding_mat_train = np.zeros((len(X_train),768))\n",
    "embedding_mat_test = np.zeros((len(X_test),768))\n",
    "\n",
    "for i in tqdm(range(len(X_train))):\n",
    "\n",
    "    embeddings = model.encode(X_train[i])\n",
    "    embedding_mat_train[i,:] = embeddings\n",
    "    \n",
    "for i in tqdm(range(len(X_test))):\n",
    "\n",
    "    embeddings = model.encode(X_test[i])\n",
    "    embedding_mat_test[i,:] = embeddings\n"
   ]
  },
  {
   "cell_type": "code",
   "execution_count": 15,
   "id": "d993be01",
   "metadata": {},
   "outputs": [
    {
     "name": "stdout",
     "output_type": "stream",
     "text": [
      "Accuracy: 0.80\n",
      "Classification Report:\n",
      "                           precision    recall  f1-score   support\n",
      "\n",
      " comp.os.ms-windows.misc       0.81      0.81      0.81        99\n",
      "comp.sys.ibm.pc.hardware       0.66      0.64      0.65        99\n",
      "   comp.sys.mac.hardware       0.71      0.74      0.72       104\n",
      "         sci.electronics       0.74      0.75      0.74        97\n",
      "                 sci.med       0.95      0.96      0.95        94\n",
      "               sci.space       0.99      0.95      0.97        95\n",
      "\n",
      "                accuracy                           0.80       588\n",
      "               macro avg       0.81      0.81      0.81       588\n",
      "            weighted avg       0.81      0.80      0.80       588\n",
      "\n"
     ]
    }
   ],
   "source": [
    "clf = KNeighborsClassifier(n_neighbors=3)\n",
    "clf = LogisticRegression(max_iter=10000)\n",
    "# Train the model\n",
    "clf.fit(embedding_mat_train, y_train)\n",
    "# Make predictions on the test data\n",
    "predicted = clf.predict(embedding_mat_test)\n",
    "\n",
    "# Calculate accuracy\n",
    "accuracy = accuracy_score(y_test, predicted)\n",
    "print(f\"Accuracy: {accuracy:.2f}\")\n",
    "\n",
    "# Display classification report\n",
    "report = classification_report(y_test, predicted, target_names=newsgroups_test.target_names)\n",
    "print(\"Classification Report:\\n\", report)"
   ]
  },
  {
   "cell_type": "code",
   "execution_count": 13,
   "id": "d6975067",
   "metadata": {},
   "outputs": [
    {
     "name": "stdout",
     "output_type": "stream",
     "text": [
      " epoch: 0, Loss:11.589\n",
      " epoch: 1, Loss:2.051\n",
      " epoch: 2, Loss:1.142\n",
      " epoch: 3, Loss:0.832\n",
      " epoch: 4, Loss:0.577\n",
      " epoch: 5, Loss:0.499\n",
      " epoch: 6, Loss:0.409\n",
      " epoch: 7, Loss:0.366\n",
      " epoch: 8, Loss:0.417\n",
      " epoch: 9, Loss:0.340\n",
      " epoch: 10, Loss:0.225\n",
      " epoch: 11, Loss:0.301\n",
      " epoch: 12, Loss:0.212\n",
      " epoch: 13, Loss:0.168\n",
      " epoch: 14, Loss:0.292\n"
     ]
    }
   ],
   "source": [
    "# train using deep contrastive learnig  \n",
    "net = Net_embed(input_dim=embedding_mat_train.shape[1],hidden_dim=256,out_dim=64,drop_prob=0.4)\n",
    "\n",
    "N_epoch = 15\n",
    "batches_per_epoch = 750\n",
    "N_samp_batch = 36\n",
    "N_data = embedding_mat_train.shape[0]\n",
    "optimizer = torch.optim.Adam(net.parameters(),lr=0.001)\n",
    "\n",
    "net.train()\n",
    "embedding_train_torch = torch.from_numpy(embedding_mat_train).float()\n",
    "label_train_torch = torch.from_numpy(y_train)\n",
    "\n",
    "criterion = Contrastive_loss(margin=0.2)\n",
    "for n in range(N_epoch):\n",
    "    batch_loss = 0\n",
    "    for i in range(batches_per_epoch) :\n",
    "        optimizer.zero_grad()\n",
    "\n",
    "        # select random batch\n",
    "        data_samp = np.random.choice(N_data,N_samp_batch,replace=False)\n",
    "        \n",
    "        data_b = embedding_train_torch[data_samp,:]\n",
    "        labels_b = label_train_torch[data_samp]\n",
    "        pred = net(data_b)\n",
    "        loss = criterion(pred,labels_b)\n",
    "        loss.backward()\n",
    "        optimizer.step()\n",
    "        batch_loss += float(loss)\n",
    "    \n",
    "    print(\"Epoch: {}, loss:{:.3f}\".format(n,batch_loss))"
   ]
  },
  {
   "cell_type": "code",
   "execution_count": 16,
   "id": "cb9386ec",
   "metadata": {},
   "outputs": [
    {
     "name": "stdout",
     "output_type": "stream",
     "text": [
      "Accuracy: 0.86\n",
      "Classification Report:\n",
      "                           precision    recall  f1-score   support\n",
      "\n",
      " comp.os.ms-windows.misc       0.88      0.85      0.86        99\n",
      "comp.sys.ibm.pc.hardware       0.76      0.82      0.79        99\n",
      "   comp.sys.mac.hardware       0.76      0.80      0.78       104\n",
      "         sci.electronics       0.85      0.81      0.83        97\n",
      "                 sci.med       0.98      0.96      0.97        94\n",
      "               sci.space       0.98      0.95      0.96        95\n",
      "\n",
      "                accuracy                           0.86       588\n",
      "               macro avg       0.87      0.86      0.87       588\n",
      "            weighted avg       0.87      0.86      0.86       588\n",
      "\n"
     ]
    }
   ],
   "source": [
    "# calculate test data embedding and Tsne\n",
    "net.eval()\n",
    "embedding_out_test = net(torch.from_numpy(embedding_mat_test).float()).detach().numpy()\n",
    "\n",
    "embedding_out_train = net(torch.from_numpy(embedding_mat_train).float()).detach().numpy()\n",
    "\n",
    "clf = LogisticRegression(max_iter=10000)\n",
    "# Train the model\n",
    "clf.fit(pred_train, y_train)\n",
    "# Make predictions on the test data\n",
    "predicted = clf.predict(pred_test)\n",
    "\n",
    "# Calculate accuracy\n",
    "accuracy = accuracy_score(y_test, predicted)\n",
    "print(f\"Accuracy: {accuracy:.2f}\")\n",
    "\n",
    "# Display classification report\n",
    "report = classification_report(y_test, predicted, target_names=newsgroups_test.target_names)\n",
    "print(\"Classification Report:\\n\", report)"
   ]
  },
  {
   "cell_type": "code",
   "execution_count": null,
   "id": "ea40ec41",
   "metadata": {},
   "outputs": [],
   "source": []
  },
  {
   "cell_type": "code",
   "execution_count": null,
   "id": "f688e61b",
   "metadata": {},
   "outputs": [],
   "source": []
  },
  {
   "cell_type": "code",
   "execution_count": null,
   "id": "f1926ead",
   "metadata": {},
   "outputs": [],
   "source": []
  }
 ],
 "metadata": {
  "kernelspec": {
   "display_name": "Python 3 (ipykernel)",
   "language": "python",
   "name": "python3"
  },
  "language_info": {
   "codemirror_mode": {
    "name": "ipython",
    "version": 3
   },
   "file_extension": ".py",
   "mimetype": "text/x-python",
   "name": "python",
   "nbconvert_exporter": "python",
   "pygments_lexer": "ipython3",
   "version": "3.9.7"
  }
 },
 "nbformat": 4,
 "nbformat_minor": 5
}
