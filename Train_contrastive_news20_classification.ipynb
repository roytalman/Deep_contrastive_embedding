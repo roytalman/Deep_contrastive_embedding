{
 "cells": [
  {
   "cell_type": "code",
   "execution_count": 1,
   "id": "be085e85",
   "metadata": {},
   "outputs": [],
   "source": [
    "import numpy as np\n",
    "from sklearn.datasets import fetch_20newsgroups\n",
    "from sklearn.feature_extraction.text import TfidfVectorizer\n",
    "from sklearn.linear_model import LogisticRegression\n",
    "from sklearn.metrics import accuracy_score, classification_report\n",
    "from sklearn.model_selection import train_test_split\n",
    "\n",
    "from sentence_transformers import SentenceTransformer\n",
    "from tqdm import tqdm\n",
    "import torch\n",
    "# local dependencies \n",
    "from contrastive import Contrastive_loss\n",
    "from utils import plot_tsne,Net_embed,finetune_embeddig\n"
   ]
  },
  {
   "cell_type": "code",
   "execution_count": 2,
   "id": "47908852",
   "metadata": {},
   "outputs": [],
   "source": [
    "\n",
    "\n",
    "# Define the categories we want to classify\n",
    "categories = ['sci.space', 'sci.med','sci.electronics','comp.os.ms-windows.misc'\n",
    "              ,'comp.sys.ibm.pc.hardware','comp.sys.mac.hardware']\n",
    "\n",
    "# Fetch the training dataset\n",
    "newsgroups_train = fetch_20newsgroups(subset='train', categories=categories)\n",
    "\n",
    "# Fetch the testing dataset\n",
    "newsgroups_test = fetch_20newsgroups(subset='test', categories=categories)"
   ]
  },
  {
   "cell_type": "code",
   "execution_count": 3,
   "id": "73b7b026",
   "metadata": {},
   "outputs": [],
   "source": [
    "# dump 75% of data\n",
    "X_train,X_dump,y_train,y_dump =train_test_split(\n",
    "    newsgroups_train.data,newsgroups_train.target,train_size=0.25,random_state=0)\n",
    "\n",
    "\n",
    "X_test,X_dump,y_test,y_dump = train_test_split(\n",
    "    newsgroups_test.data,newsgroups_test.target,train_size=0.25,random_state=0)"
   ]
  },
  {
   "cell_type": "code",
   "execution_count": 4,
   "id": "9ec9d0ad",
   "metadata": {},
   "outputs": [],
   "source": [
    "# Helper function to fit logistic regression head for embedding and predict\n",
    "def fit_predict_embedding(embed_train,y_train,embed_test,y_test,target_names  ):\n",
    "    clf = LogisticRegression(max_iter=10000)\n",
    "    # Train the model on embedding:\n",
    "    clf.fit(embed_train, y_train)\n",
    "    # Make predictions on the test data:\n",
    "    predicted = clf.predict(embed_test)\n",
    "    accuracy = accuracy_score(y_test, predicted)\n",
    "    \n",
    "    # Calculate accuracy\n",
    "    print(f\"Accuracy: {accuracy:.2f}\")\n",
    "    #print performance report\n",
    "    report = classification_report(y_test, predicted, target_names=newsgroups_test.target_names)\n",
    "    print(\"Classification Report:\\n\", report)"
   ]
  },
  {
   "cell_type": "markdown",
   "id": "8d0235c9",
   "metadata": {},
   "source": [
    "### Train baseline Tf-Idf sparse embedding based classifier"
   ]
  },
  {
   "cell_type": "code",
   "execution_count": 5,
   "id": "cce1d4db",
   "metadata": {},
   "outputs": [
    {
     "name": "stdout",
     "output_type": "stream",
     "text": [
      "Accuracy: 0.70\n",
      "Classification Report:\n",
      "                           precision    recall  f1-score   support\n",
      "\n",
      " comp.os.ms-windows.misc       0.73      0.75      0.74        99\n",
      "comp.sys.ibm.pc.hardware       0.67      0.49      0.57        99\n",
      "   comp.sys.mac.hardware       0.74      0.71      0.73       104\n",
      "         sci.electronics       0.53      0.70      0.60        97\n",
      "                 sci.med       0.71      0.63      0.67        94\n",
      "               sci.space       0.84      0.91      0.87        95\n",
      "\n",
      "                accuracy                           0.70       588\n",
      "               macro avg       0.70      0.70      0.70       588\n",
      "            weighted avg       0.70      0.70      0.70       588\n",
      "\n"
     ]
    }
   ],
   "source": [
    "# Create a TF-IDF vectorizer\n",
    "tfidf_vectorizer = TfidfVectorizer(max_features=1000)\n",
    "\n",
    "# Fit and transform the training data\n",
    "X_train_tfidf = tfidf_vectorizer.fit_transform(X_train)\n",
    "\n",
    "# Transform the testing data\n",
    "X_test_tfidf = tfidf_vectorizer.transform(X_test)\n",
    "\n",
    "fit_predict_embedding(X_train_tfidf,y_train,X_test_tfidf,y_test,newsgroups_test.target_names  )\n"
   ]
  },
  {
   "cell_type": "markdown",
   "id": "2b4d84ca",
   "metadata": {},
   "source": [
    "### Extract deep embedding"
   ]
  },
  {
   "cell_type": "code",
   "execution_count": 6,
   "id": "d250b4d1",
   "metadata": {},
   "outputs": [],
   "source": [
    "calc_embedding = False\n",
    "if calc_embedding:\n",
    "    model = SentenceTransformer('Alibaba-NLP/gte-base-en-v1.5', trust_remote_code=True)\n",
    "    embedding_mat_train = np.zeros((len(X_train),768))\n",
    "    embedding_mat_test = np.zeros((len(X_test),768))\n",
    "\n",
    "    for i in tqdm(range(len(X_train))):\n",
    "        embedding_mat_train[i,:] = model.encode(X_train[i])\n",
    "\n",
    "    for i in tqdm(range(len(X_test))):\n",
    "        embedding_mat_test[i,:] = model.encode(X_test[i])\n",
    "\n",
    "\n",
    "    np.save('./toy_data/embedding_train.npy',embedding_mat_train)\n",
    "    np.save('./toy_data/embedding_test.npy',embedding_mat_test)\n",
    "    np.save('./toy_data/y_train.npy',y_train)\n",
    "    np.save('./toy_data/y_test.npy',y_test)\n",
    "else: \n",
    "    embedding_mat_train = np.load('./toy_data/embedding_train.npy')\n",
    "    embedding_mat_test = np.load('./toy_data/embedding_test.npy')\n",
    "    y_train = np.load('./toy_data/y_train.npy')\n",
    "    y_test = np.load('./toy_data/y_test.npy')"
   ]
  },
  {
   "cell_type": "code",
   "execution_count": 7,
   "id": "d993be01",
   "metadata": {},
   "outputs": [
    {
     "name": "stdout",
     "output_type": "stream",
     "text": [
      "Accuracy: 0.80\n",
      "Classification Report:\n",
      "                           precision    recall  f1-score   support\n",
      "\n",
      " comp.os.ms-windows.misc       0.81      0.81      0.81        99\n",
      "comp.sys.ibm.pc.hardware       0.66      0.64      0.65        99\n",
      "   comp.sys.mac.hardware       0.71      0.74      0.72       104\n",
      "         sci.electronics       0.74      0.75      0.74        97\n",
      "                 sci.med       0.95      0.96      0.95        94\n",
      "               sci.space       0.99      0.95      0.97        95\n",
      "\n",
      "                accuracy                           0.80       588\n",
      "               macro avg       0.81      0.81      0.81       588\n",
      "            weighted avg       0.81      0.80      0.80       588\n",
      "\n"
     ]
    }
   ],
   "source": [
    "# predicnt using DL embedding\n",
    "fit_predict_embedding(embedding_mat_train,y_train,embedding_mat_test,y_test,newsgroups_test.target_names  )\n"
   ]
  },
  {
   "cell_type": "code",
   "execution_count": 17,
   "id": "d6975067",
   "metadata": {},
   "outputs": [
    {
     "name": "stdout",
     "output_type": "stream",
     "text": [
      "Epoch: 0, loss: 0.055\n",
      "Epoch: 1, loss: 0.007\n",
      "Epoch: 2, loss: 0.003\n",
      "Epoch: 3, loss: 0.003\n",
      "Epoch: 4, loss: 0.002\n",
      "Epoch: 5, loss: 0.002\n",
      "Epoch: 6, loss: 0.002\n",
      "Epoch: 7, loss: 0.001\n",
      "Epoch: 8, loss: 0.001\n",
      "Epoch: 9, loss: 0.001\n",
      "Epoch: 10, loss: 0.001\n",
      "Epoch: 11, loss: 0.001\n",
      "Epoch: 12, loss: 0.001\n",
      "Epoch: 13, loss: 0.001\n",
      "Epoch: 14, loss: 0.001\n"
     ]
    }
   ],
   "source": [
    "# train neural network using deep contrastive learnig  \n",
    "net = finetune_embeddig(embedding_mat_train, y_train,N_epoch=15,out_dim=32,\n",
    "                        verbose=True,drop_prob = 0.3,hidden_dim = 256,margin=0.2)\n"
   ]
  },
  {
   "cell_type": "code",
   "execution_count": 18,
   "id": "cb9386ec",
   "metadata": {},
   "outputs": [
    {
     "name": "stdout",
     "output_type": "stream",
     "text": [
      "Accuracy: 0.86\n",
      "Classification Report:\n",
      "                           precision    recall  f1-score   support\n",
      "\n",
      " comp.os.ms-windows.misc       0.88      0.85      0.86        99\n",
      "comp.sys.ibm.pc.hardware       0.75      0.80      0.77        99\n",
      "   comp.sys.mac.hardware       0.78      0.80      0.79       104\n",
      "         sci.electronics       0.81      0.81      0.81        97\n",
      "                 sci.med       0.97      0.96      0.96        94\n",
      "               sci.space       0.98      0.93      0.95        95\n",
      "\n",
      "                accuracy                           0.86       588\n",
      "               macro avg       0.86      0.86      0.86       588\n",
      "            weighted avg       0.86      0.86      0.86       588\n",
      "\n"
     ]
    }
   ],
   "source": [
    "# calculate test data embedding and Tsne\n",
    "net.eval()\n",
    "embedding_out_test = net(torch.from_numpy(embedding_mat_test).float()).detach().numpy()\n",
    "\n",
    "embedding_out_train = net(torch.from_numpy(embedding_mat_train).float()).detach().numpy()\n",
    "\n",
    "fit_predict_embedding(embedding_out_train,y_train,embedding_out_test,y_test,newsgroups_test.target_names  )\n"
   ]
  }
 ],
 "metadata": {
  "kernelspec": {
   "display_name": "Python 3 (ipykernel)",
   "language": "python",
   "name": "python3"
  },
  "language_info": {
   "codemirror_mode": {
    "name": "ipython",
    "version": 3
   },
   "file_extension": ".py",
   "mimetype": "text/x-python",
   "name": "python",
   "nbconvert_exporter": "python",
   "pygments_lexer": "ipython3",
   "version": "3.9.7"
  }
 },
 "nbformat": 4,
 "nbformat_minor": 5
}
